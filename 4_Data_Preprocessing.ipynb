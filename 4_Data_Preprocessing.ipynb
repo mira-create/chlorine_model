{
  "cells": [
    {
      "cell_type": "markdown",
      "metadata": {
        "id": "view-in-github",
        "colab_type": "text"
      },
      "source": [
        "<a href=\"https://colab.research.google.com/github/mira-create/chlorine_model/blob/main/4_Data_Preprocessing.ipynb\" target=\"_parent\"><img src=\"https://colab.research.google.com/assets/colab-badge.svg\" alt=\"Open In Colab\"/></a>"
      ]
    },
    {
      "cell_type": "markdown",
      "source": [
        "#Setup google colab file and import packages"
      ],
      "metadata": {
        "id": "cEiR8FToEvtZ"
      }
    },
    {
      "cell_type": "code",
      "source": [
        "from google.colab import auth\n",
        "auth.authenticate_user()\n",
        "\n",
        "import gspread\n",
        "from google.auth import default\n",
        "creds, _ = default()\n",
        "\n",
        "gc = gspread.authorize(creds)\n"
      ],
      "metadata": {
        "id": "LWSKB8SCEysx"
      },
      "execution_count": 78,
      "outputs": []
    },
    {
      "cell_type": "code",
      "execution_count": 79,
      "metadata": {
        "id": "id1rIkJpWONc"
      },
      "outputs": [],
      "source": [
        "import matplotlib.pyplot as plt\n",
        "plt.rcParams[\"axes.grid\"] = False\n",
        "import numpy as np\n",
        "import pandas as pd\n",
        "import seaborn as sns\n",
        "import re\n",
        "import scipy\n",
        "import scipy\n",
        "from scipy import stats\n",
        "from sklearn import preprocessing\n",
        "from sklearn.preprocessing import PowerTransformer\n",
        "from sklearn import linear_model\n",
        "import networkx as nx\n",
        "from sklearn.model_selection import train_test_split\n",
        "from sklearn.linear_model import LinearRegression\n",
        "from sklearn.metrics import mean_squared_error, mean_absolute_error\n",
        "from google.colab import files\n",
        "import math\n"
      ]
    },
    {
      "cell_type": "markdown",
      "metadata": {
        "id": "5lqd-kSqa4FW"
      },
      "source": [
        "# Process Experimental Data"
      ]
    },
    {
      "cell_type": "code",
      "source": [
        "##Import Virus Data from Mira\n",
        "wb = gc.open_by_url('https://docs.google.com/spreadsheets/d/1WFAGeTDHBuTO8iMZu-kJ-aDjjZAVuKBIBNeQvOHssGk/edit#gid=0')\n",
        "sheet = wb.sheet1\n",
        "data = sheet.get_all_values()\n",
        "df = pd.DataFrame(data)\n",
        "df.columns = df.iloc[0]\n",
        "experimental_data_Mira = df.iloc[1:]\n",
        "\n"
      ],
      "metadata": {
        "id": "y64imxJ3E_0p"
      },
      "execution_count": 80,
      "outputs": []
    },
    {
      "cell_type": "code",
      "source": [
        "##Import Virus Data from Kaming\n",
        "wb = gc.open_by_url('https://docs.google.com/spreadsheets/d/1-4_4vjJvusrTjH0fAhMcYC3gJi2FX-lwTX29hbrikqM/edit#gid=0')\n",
        "sheet = wb.sheet1\n",
        "data = sheet.get_all_values()\n",
        "df = pd.DataFrame(data)\n",
        "df.columns = df.iloc[0]\n",
        "df_Kaming = df.iloc[1:]\n",
        "\n",
        "experimental_data_Kaming = df_Kaming[['kobs (new approach)', 'Sample ID']]\n",
        "experimental_data_Kaming.columns  = [\"kobs_kaming\", \"sample_ID\"]\n",
        "\n"
      ],
      "metadata": {
        "id": "33b5ZP05sv4x"
      },
      "execution_count": 81,
      "outputs": []
    },
    {
      "cell_type": "markdown",
      "metadata": {
        "id": "pemmzJHDbi9T"
      },
      "source": [
        "## Rename and select important columns"
      ]
    },
    {
      "cell_type": "code",
      "execution_count": 82,
      "metadata": {
        "id": "XSMWE6yAX_mf"
      },
      "outputs": [],
      "source": [
        "#extract rows from datasets that have attached label values\n",
        "data = experimental_data_Mira.loc[experimental_data_Mira['data_for_modeling']=='1'].copy()\n",
        "\n",
        "#rename important columns to ease further processing\n",
        "data = data.rename(columns={\"Virus name and strain\": \"virus_name\", \"Strain details\": \"strain\",\"Temperature (C)\":'temp', \"Paper ID\":'paper_ID',\"Virus purification type\":'purification_level', \"kobs with new code\":'k_obs'});\n",
        "data = data.rename(columns={ \"Chlorine Concentration\" : \"chlor_conc\", \"Sample ID\" : \"sample_ID\",\"Year\":\"year\", \"Author_list_edit\":\"author_list\", \"Buffer description\":\"buffer_description\", \"average_kobs\":\"average_kobs_original\"})\n",
        "\n",
        "#fill in incomplete values for strain and add a space\n",
        "data['strain'] = data['strain'].fillna('').str.lower()\n",
        "#make virus name lowercase\n",
        "data['virus_name'] = data['virus_name'].str.lower()\n",
        "\n",
        "#combine virus name and strain columns\n",
        "data['virus_name_strain'] = data['virus_name'].str.replace(\"[ \\t]+$\",'', regex = True)+ ' ' + data['strain']\n",
        "\n",
        "#extract only important columns\n",
        "data = data.loc[:, [\"virus_name\",\"virus_name_strain\",\"strain\",\"temp\", \"pH\", \"paper_ID\",\"kobs_mira\",\"purification_level\", \"chlor_conc\", \"sample_ID\", \"year\", \"author_list\",\"buffer_type\",\"corr_author\",\"high_chloride\", 'buffer_description']]\n",
        "#include average_kobs_original if I'm trying to do a comparison"
      ]
    },
    {
      "cell_type": "code",
      "source": [
        "data.columns"
      ],
      "metadata": {
        "colab": {
          "base_uri": "https://localhost:8080/"
        },
        "id": "uQq6laem8yBg",
        "outputId": "5cf5e1b2-6b39-4529-c8d9-806c2d9e4e12"
      },
      "execution_count": 83,
      "outputs": [
        {
          "output_type": "execute_result",
          "data": {
            "text/plain": [
              "Index(['virus_name', 'virus_name_strain', 'strain', 'temp', 'pH', 'paper_ID',\n",
              "       'kobs_mira', 'purification_level', 'chlor_conc', 'sample_ID', 'year',\n",
              "       'author_list', 'buffer_type', 'corr_author', 'high_chloride',\n",
              "       'buffer_description'],\n",
              "      dtype='object', name=0)"
            ]
          },
          "metadata": {},
          "execution_count": 83
        }
      ]
    },
    {
      "cell_type": "markdown",
      "source": [
        "##Calculate average kobs from two reviewers"
      ],
      "metadata": {
        "id": "ME3R6pj7wicQ"
      }
    },
    {
      "cell_type": "code",
      "source": [
        "data_merge.columns"
      ],
      "metadata": {
        "colab": {
          "base_uri": "https://localhost:8080/"
        },
        "id": "ZBUP42N29UuT",
        "outputId": "6fd7d97f-eca9-4d6f-c929-dacc8829ad5b"
      },
      "execution_count": 84,
      "outputs": [
        {
          "output_type": "execute_result",
          "data": {
            "text/plain": [
              "Index(['virus_name', 'virus_name_strain', 'strain', 'temp', 'pH', 'paper_ID',\n",
              "       'kobs_mira', 'purification_level', 'chlor_conc', 'sample_ID', 'year',\n",
              "       'author_list', 'buffer_type', 'corr_author', 'high_chloride',\n",
              "       'buffer_description', 'kobs_kaming'],\n",
              "      dtype='object')"
            ]
          },
          "metadata": {},
          "execution_count": 84
        }
      ]
    },
    {
      "cell_type": "code",
      "source": [
        "data = pd.merge(data.copy(), experimental_data_Kaming, how = 'left',  left_on='sample_ID', right_on='sample_ID')\n",
        "\n",
        "#convert reviewer data to numeric\n",
        "data['kobs_mira'] = np.abs(data['kobs_mira'].apply(pd.to_numeric))\n",
        "data['kobs_kaming'] = np.abs(data['kobs_kaming'].apply(pd.to_numeric))\n",
        "#data['average_kobs_original'] = np.abs(data['average_kobs_original'].apply(pd.to_numeric))\n",
        "\n",
        "data[\"average_kobs\"] = (data['kobs_mira'] + data['kobs_kaming'])/2\n",
        "\n",
        "#check if merge matches up with previously calculated average_kobs\n",
        "#data2 = data.copy()[[\"kobs_mira\", \"kobs_kaming\", \"average_kobs_redo\", \"average_kobs\"]]\n",
        "#data2['diff'] = data2['average_kobs_redo'] - data2['average_kobs']\n",
        "#data2[data2['diff']>.00005]\n"
      ],
      "metadata": {
        "id": "hQocYmlxnz1b"
      },
      "execution_count": 85,
      "outputs": []
    },
    {
      "cell_type": "code",
      "source": [
        "# check that only data points manually observed to be fine are greater than 10% different\n",
        "\n",
        "kvalues = data.copy()\n",
        "kvalues['diff'] = (  np.abs(( kvalues['kobs_mira'] - kvalues['kobs_kaming'] )) /kvalues['kobs_mira']  )*100\n",
        "diff10 = kvalues[kvalues['diff']>10]\n",
        "\n",
        "fine_sampleid = [\"31-9\", '11-2', '35-8', '35-17', '35-20', '36-1', '36-3', '36-4', '41-6',\n",
        "                 '41-10', '46-1', '46-2', '46-3', '46-4', '46-5', '46-6', '51-8', '51-10',\n",
        "                 '59-2', '59-13', '60-10', '63-2', '81-4', '35-6', '46-8', '46-12', '46-13',\n",
        "                 '51-18', '64-1','78-1', '35-12', '35-16', '35-18', '71-3', '54-6', '35-10']\n",
        "\n",
        "diff10[~diff10['sample_ID'].isin(fine_sampleid)]"
      ],
      "metadata": {
        "colab": {
          "base_uri": "https://localhost:8080/",
          "height": 109
        },
        "id": "pdIYAwiYwxcp",
        "outputId": "4f49e3b4-ae3b-41df-8d41-c0b08195a5a5"
      },
      "execution_count": 86,
      "outputs": [
        {
          "output_type": "execute_result",
          "data": {
            "text/plain": [
              "Empty DataFrame\n",
              "Columns: [virus_name, virus_name_strain, strain, temp, pH, paper_ID, kobs_mira, purification_level, chlor_conc, sample_ID, year, author_list, buffer_type, corr_author, high_chloride, buffer_description, kobs_kaming, average_kobs, diff]\n",
              "Index: []"
            ],
            "text/html": [
              "\n",
              "  <div id=\"df-f0fc3877-d373-4db5-ad96-64cc4d58a486\" class=\"colab-df-container\">\n",
              "    <div>\n",
              "<style scoped>\n",
              "    .dataframe tbody tr th:only-of-type {\n",
              "        vertical-align: middle;\n",
              "    }\n",
              "\n",
              "    .dataframe tbody tr th {\n",
              "        vertical-align: top;\n",
              "    }\n",
              "\n",
              "    .dataframe thead th {\n",
              "        text-align: right;\n",
              "    }\n",
              "</style>\n",
              "<table border=\"1\" class=\"dataframe\">\n",
              "  <thead>\n",
              "    <tr style=\"text-align: right;\">\n",
              "      <th></th>\n",
              "      <th>virus_name</th>\n",
              "      <th>virus_name_strain</th>\n",
              "      <th>strain</th>\n",
              "      <th>temp</th>\n",
              "      <th>pH</th>\n",
              "      <th>paper_ID</th>\n",
              "      <th>kobs_mira</th>\n",
              "      <th>purification_level</th>\n",
              "      <th>chlor_conc</th>\n",
              "      <th>sample_ID</th>\n",
              "      <th>year</th>\n",
              "      <th>author_list</th>\n",
              "      <th>buffer_type</th>\n",
              "      <th>corr_author</th>\n",
              "      <th>high_chloride</th>\n",
              "      <th>buffer_description</th>\n",
              "      <th>kobs_kaming</th>\n",
              "      <th>average_kobs</th>\n",
              "      <th>diff</th>\n",
              "    </tr>\n",
              "  </thead>\n",
              "  <tbody>\n",
              "  </tbody>\n",
              "</table>\n",
              "</div>\n",
              "    <div class=\"colab-df-buttons\">\n",
              "\n",
              "  <div class=\"colab-df-container\">\n",
              "    <button class=\"colab-df-convert\" onclick=\"convertToInteractive('df-f0fc3877-d373-4db5-ad96-64cc4d58a486')\"\n",
              "            title=\"Convert this dataframe to an interactive table.\"\n",
              "            style=\"display:none;\">\n",
              "\n",
              "  <svg xmlns=\"http://www.w3.org/2000/svg\" height=\"24px\" viewBox=\"0 -960 960 960\">\n",
              "    <path d=\"M120-120v-720h720v720H120Zm60-500h600v-160H180v160Zm220 220h160v-160H400v160Zm0 220h160v-160H400v160ZM180-400h160v-160H180v160Zm440 0h160v-160H620v160ZM180-180h160v-160H180v160Zm440 0h160v-160H620v160Z\"/>\n",
              "  </svg>\n",
              "    </button>\n",
              "\n",
              "  <style>\n",
              "    .colab-df-container {\n",
              "      display:flex;\n",
              "      gap: 12px;\n",
              "    }\n",
              "\n",
              "    .colab-df-convert {\n",
              "      background-color: #E8F0FE;\n",
              "      border: none;\n",
              "      border-radius: 50%;\n",
              "      cursor: pointer;\n",
              "      display: none;\n",
              "      fill: #1967D2;\n",
              "      height: 32px;\n",
              "      padding: 0 0 0 0;\n",
              "      width: 32px;\n",
              "    }\n",
              "\n",
              "    .colab-df-convert:hover {\n",
              "      background-color: #E2EBFA;\n",
              "      box-shadow: 0px 1px 2px rgba(60, 64, 67, 0.3), 0px 1px 3px 1px rgba(60, 64, 67, 0.15);\n",
              "      fill: #174EA6;\n",
              "    }\n",
              "\n",
              "    .colab-df-buttons div {\n",
              "      margin-bottom: 4px;\n",
              "    }\n",
              "\n",
              "    [theme=dark] .colab-df-convert {\n",
              "      background-color: #3B4455;\n",
              "      fill: #D2E3FC;\n",
              "    }\n",
              "\n",
              "    [theme=dark] .colab-df-convert:hover {\n",
              "      background-color: #434B5C;\n",
              "      box-shadow: 0px 1px 3px 1px rgba(0, 0, 0, 0.15);\n",
              "      filter: drop-shadow(0px 1px 2px rgba(0, 0, 0, 0.3));\n",
              "      fill: #FFFFFF;\n",
              "    }\n",
              "  </style>\n",
              "\n",
              "    <script>\n",
              "      const buttonEl =\n",
              "        document.querySelector('#df-f0fc3877-d373-4db5-ad96-64cc4d58a486 button.colab-df-convert');\n",
              "      buttonEl.style.display =\n",
              "        google.colab.kernel.accessAllowed ? 'block' : 'none';\n",
              "\n",
              "      async function convertToInteractive(key) {\n",
              "        const element = document.querySelector('#df-f0fc3877-d373-4db5-ad96-64cc4d58a486');\n",
              "        const dataTable =\n",
              "          await google.colab.kernel.invokeFunction('convertToInteractive',\n",
              "                                                    [key], {});\n",
              "        if (!dataTable) return;\n",
              "\n",
              "        const docLinkHtml = 'Like what you see? Visit the ' +\n",
              "          '<a target=\"_blank\" href=https://colab.research.google.com/notebooks/data_table.ipynb>data table notebook</a>'\n",
              "          + ' to learn more about interactive tables.';\n",
              "        element.innerHTML = '';\n",
              "        dataTable['output_type'] = 'display_data';\n",
              "        await google.colab.output.renderOutput(dataTable, element);\n",
              "        const docLink = document.createElement('div');\n",
              "        docLink.innerHTML = docLinkHtml;\n",
              "        element.appendChild(docLink);\n",
              "      }\n",
              "    </script>\n",
              "  </div>\n",
              "\n",
              "\n",
              "<div id=\"df-63418abf-e28d-499c-b44d-bc574c6aaa6c\">\n",
              "  <button class=\"colab-df-quickchart\" onclick=\"quickchart('df-63418abf-e28d-499c-b44d-bc574c6aaa6c')\"\n",
              "            title=\"Suggest charts.\"\n",
              "            style=\"display:none;\">\n",
              "\n",
              "<svg xmlns=\"http://www.w3.org/2000/svg\" height=\"24px\"viewBox=\"0 0 24 24\"\n",
              "     width=\"24px\">\n",
              "    <g>\n",
              "        <path d=\"M19 3H5c-1.1 0-2 .9-2 2v14c0 1.1.9 2 2 2h14c1.1 0 2-.9 2-2V5c0-1.1-.9-2-2-2zM9 17H7v-7h2v7zm4 0h-2V7h2v10zm4 0h-2v-4h2v4z\"/>\n",
              "    </g>\n",
              "</svg>\n",
              "  </button>\n",
              "\n",
              "<style>\n",
              "  .colab-df-quickchart {\n",
              "    background-color: #E8F0FE;\n",
              "    border: none;\n",
              "    border-radius: 50%;\n",
              "    cursor: pointer;\n",
              "    display: none;\n",
              "    fill: #1967D2;\n",
              "    height: 32px;\n",
              "    padding: 0 0 0 0;\n",
              "    width: 32px;\n",
              "  }\n",
              "\n",
              "  .colab-df-quickchart:hover {\n",
              "    background-color: #E2EBFA;\n",
              "    box-shadow: 0px 1px 2px rgba(60, 64, 67, 0.3), 0px 1px 3px 1px rgba(60, 64, 67, 0.15);\n",
              "    fill: #174EA6;\n",
              "  }\n",
              "\n",
              "  [theme=dark] .colab-df-quickchart {\n",
              "    background-color: #3B4455;\n",
              "    fill: #D2E3FC;\n",
              "  }\n",
              "\n",
              "  [theme=dark] .colab-df-quickchart:hover {\n",
              "    background-color: #434B5C;\n",
              "    box-shadow: 0px 1px 3px 1px rgba(0, 0, 0, 0.15);\n",
              "    filter: drop-shadow(0px 1px 2px rgba(0, 0, 0, 0.3));\n",
              "    fill: #FFFFFF;\n",
              "  }\n",
              "</style>\n",
              "\n",
              "  <script>\n",
              "    async function quickchart(key) {\n",
              "      const charts = await google.colab.kernel.invokeFunction(\n",
              "          'suggestCharts', [key], {});\n",
              "    }\n",
              "    (() => {\n",
              "      let quickchartButtonEl =\n",
              "        document.querySelector('#df-63418abf-e28d-499c-b44d-bc574c6aaa6c button');\n",
              "      quickchartButtonEl.style.display =\n",
              "        google.colab.kernel.accessAllowed ? 'block' : 'none';\n",
              "    })();\n",
              "  </script>\n",
              "</div>\n",
              "    </div>\n",
              "  </div>\n"
            ]
          },
          "metadata": {},
          "execution_count": 86
        }
      ]
    },
    {
      "cell_type": "code",
      "source": [
        "len(data)\n",
        "\n",
        "(len(data.paper_ID.unique()))"
      ],
      "metadata": {
        "colab": {
          "base_uri": "https://localhost:8080/"
        },
        "id": "EznLe4_f0lsv",
        "outputId": "4306baa5-b3c3-4810-f9c3-e9e2e7f8d281"
      },
      "execution_count": 87,
      "outputs": [
        {
          "output_type": "execute_result",
          "data": {
            "text/plain": [
              "72"
            ]
          },
          "metadata": {},
          "execution_count": 87
        }
      ]
    },
    {
      "cell_type": "markdown",
      "metadata": {
        "id": "x6NJEjtsbqJt"
      },
      "source": [
        "## Temperature and pH processing"
      ]
    },
    {
      "cell_type": "code",
      "execution_count": 88,
      "metadata": {
        "id": "fBTRoRxrYnQJ"
      },
      "outputs": [],
      "source": [
        "#convert ID from string\n",
        "data['paper_ID'] = data['paper_ID'].apply(pd.to_numeric)\n",
        "\n",
        "#replace temp with middle of temp range, and set room temp to 20 (68C)\n",
        "data['temp'] = data['temp'].str.replace('20-25','22.5').str.replace('25-28','26.5').str.replace('25-26','25.5').str.replace('23-24','23.5').str.replace('1-5','3')\n",
        "data['temp'] = data['temp'].str.replace('room temperature','20')\n",
        "\n",
        "#convert numeric data to string\n",
        "data['temp'] = data['temp'].apply(pd.to_numeric)\n",
        "data['pH'] = data['pH'].apply(pd.to_numeric)\n",
        "\n",
        "#find rate constant in terms of HOCl\n",
        "pka = 7.53\n",
        "data['alpha_0'] = 1/(1+ pow(10, -1* pka)/pow(10,-1*data['pH']) )"
      ]
    },
    {
      "cell_type": "markdown",
      "source": [
        "## Author and buffer processing"
      ],
      "metadata": {
        "id": "dsoN2-iY0tgZ"
      }
    },
    {
      "cell_type": "code",
      "source": [
        "data['buffer'] = data['buffer_type']\n",
        "\n",
        "#make all buffers synthetic buffer\n",
        "data['buffer'] = data['buffer'].str.replace('phosphate saline','synthetic_buffer').str.replace('acetate','synthetic_buffer').str.replace('borate','synthetic_buffer').str.replace('phosphate carbonate','synthetic_buffer')\n",
        "data['buffer'] = data['buffer'].str.replace('calcium','synthetic_buffer').str.replace('carbonate','synthetic_buffer').str.replace('magnesium','synthetic_buffer').str.replace('phthlate','synthetic_buffer')\n",
        "data['buffer'] = data['buffer'].str.replace('phosphate','synthetic_buffer')\n",
        "\n",
        "#make natural and treated waters category\n",
        "data['buffer'] = data['buffer'].str.replace('treated surface water','natural_or_treated_water').str.replace('tap water','natural_or_treated_water').str.replace('treated groundwater','natural_or_treated_water').str.replace('surface water','natural_or_treated_water')\n",
        "data['buffer'] = data['buffer'].str.replace('treated water','natural_or_treated_water')\n",
        "\n",
        "#make high organics category\n",
        "data['buffer'] = data['buffer'].str.replace('lettuce wash water','high_organics').str.replace(\"wastewater\",\"high_organics\")\n",
        "\n"
      ],
      "metadata": {
        "id": "0vui8srk0xG1"
      },
      "execution_count": 89,
      "outputs": []
    },
    {
      "cell_type": "code",
      "source": [
        "len(data)\n",
        "data['buffer'].unique()"
      ],
      "metadata": {
        "colab": {
          "base_uri": "https://localhost:8080/"
        },
        "id": "LqvwgOl2BzTE",
        "outputId": "b2afb23f-7fb2-4f3f-e0f2-ae35d989a771"
      },
      "execution_count": 90,
      "outputs": [
        {
          "output_type": "execute_result",
          "data": {
            "text/plain": [
              "array(['synthetic_buffer', 'high_organics', 'natural_or_treated_water',\n",
              "       'ultrapure'], dtype=object)"
            ]
          },
          "metadata": {},
          "execution_count": 90
        }
      ]
    },
    {
      "cell_type": "markdown",
      "metadata": {
        "id": "LEExW8IPb57j"
      },
      "source": [
        "## Abbreviations and virus name cleaning"
      ]
    },
    {
      "cell_type": "code",
      "execution_count": 91,
      "metadata": {
        "id": "mq1xrq28bGMf"
      },
      "outputs": [],
      "source": [
        "import re\n",
        "#data processing of experimental data\n",
        "\n",
        "experiment = data.copy()\n",
        "\n",
        "#replace virus full name with abbreviation in experiment dataset\n",
        "experiment['virus_name_strain'] = experiment['virus_name_strain'].str.replace('poliovirus','pv')\n",
        "experiment['virus_name_strain'] = experiment['virus_name_strain'].str.replace('coxsackievirus','cv')\n",
        "experiment['virus_name_strain'] = experiment['virus_name_strain'].str.replace('echovirus','echo')\n",
        "experiment['virus_name_strain'] = experiment['virus_name_strain'].str.replace('human adenovirus','hadv')\n",
        "experiment['virus_name_strain'] = experiment['virus_name_strain'].str.replace('adenovirus','hadv')\n",
        "experiment['virus_name_strain'] = experiment['virus_name_strain'].str.replace('pepper mild mottle virus','pmmov')\n",
        "experiment['virus_name_strain'] = experiment['virus_name_strain'].str.replace('enterovirus','entero')\n",
        "experiment['virus_name_strain'] = experiment['virus_name_strain'].str.replace('hepatitis','hep')\n",
        "experiment['virus_name_strain'] = experiment['virus_name_strain'].str.replace('phi6','phi 6')\n",
        "\n",
        "#remova trailing space\n",
        "experiment['virus_name_strain'] = experiment['virus_name_strain'].str.replace(\"[ \\t]+$\",'', regex = True)\n",
        "\n",
        "#set all MS2 to be the same\n",
        "experiment['virus_name_strain'] = experiment['virus_name_strain'].str.replace(\"ms2.*\",'ms2', regex = True)\n",
        "\n",
        "#set all cvb5 faulkner to be the same\n",
        "experiment['virus_name_strain'] = experiment['virus_name_strain'].str.replace(\"faulkner.*\",'faulkner', regex = True)\n",
        "\n",
        "#remove unnecessart final identifyer\n",
        "experiment['virus_name_strain'] = experiment['virus_name_strain'].str.replace(\" an mg845887\",'').str.replace(\" an mg845888\",'').str.replace(\" an mg845889\",'')\n",
        "experiment['virus_name_strain'] = experiment['virus_name_strain'].str.replace(\" mg845890\",'').str.replace(\" mg845891\",'').str.replace(\" mg845892\",'')\n",
        "experiment['virus_name_strain'] = experiment['virus_name_strain'].str.replace(\" mg845893\",'').str.replace(\" mg845894\",'').str.replace(\" mg845895\",'')\n",
        "\n",
        "#simplify name of pr772\n",
        "experiment['virus_name_strain'] = experiment['virus_name_strain'].str.replace(\"baa-769-b1\",'')\n",
        "\n",
        "#assume that all hadv2 is the same, since vr-846 is the same as strain 6\n",
        "experiment['virus_name_strain'] = experiment['virus_name_strain'].str.replace(\"vr-846\",'strain 6').str.replace(\"strain 6\",\"\")\n",
        "\n",
        "#remove dashes from cv\n",
        "experiment['virus_name_strain'] = experiment['virus_name_strain'].str.replace(\"b5-\",'b5 ').str.replace(\"b4-\",'b4 ').str.replace(\"b1-\",'b1 ')\n",
        "\n",
        "#assumption: all cv b3 is cv b3 nancy\n",
        "experiment['virus_name_strain'] = experiment['virus_name_strain'].str.replace(\"cv b3\",'cv b3 nancy').str.replace(\"nancy nancy\",'nancy')\n",
        "\n",
        "#remove prd1 strain designation (only using one)\n",
        "experiment['virus_name_strain'] = experiment['virus_name_strain'].str.replace(\"dsm 19107\",'')\n",
        "\n",
        "#assumption: all phi6 is the same\n",
        "experiment['virus_name_strain'] = experiment['virus_name_strain'].str.replace(\"phi 6 atcc 21781-b1\",'phi 6')\n",
        "\n",
        "#remove fr strain designation, add bacteriophage to fr and ga\n",
        "experiment['virus_name_strain'] = experiment['virus_name_strain'].str.replace(\"atcc 15767-b1\",'bacteriophage')\n",
        "experiment['virus_name_strain'] = experiment['virus_name_strain'].str.replace(\"ga(\\W|$)\",'ga bacteriophage', regex = True)\n",
        "\n",
        "#replace h1n1 h1n1 strain a/pr/8/34 vr-1469 with simpler\n",
        "experiment['virus_name_strain'] = experiment['virus_name_strain'].str.replace(\"h1n1 strain a/pr/8/34 vr-1469\",'h1n1 a/pr/8/34', regex = True)\n",
        "\n",
        "#assumption: replace 77-1 cv b4 with cvb4 jvb (since this is a lab strain)\n",
        "experiment[\"virus_name_strain\"] = np.where(experiment[\"sample_ID\"]==\"77-1\",'cv b4 jvb', experiment[\"virus_name_strain\"])\n",
        "\n",
        "#assumption: pv2 P712 is vaccine strain\n",
        "experiment['virus_name_strain'] = experiment['virus_name_strain'].str.replace(\"pv 2 p712\",'pv 2 sabin', regex = True)\n",
        "\n",
        "#assumption: all hadv 41 is hadv 41 tak\n",
        "experiment['virus_name_strain'] = experiment['virus_name_strain'].str.replace(\"hadv 41.*\",'hadv 41 tak', regex = True)\n",
        "\n",
        "#assumption: reovirus 3 lang is actually reovirus 1 lang, since the Lang strain is reovirus 1\n",
        "experiment['virus_name_strain'] = experiment['virus_name_strain'].str.replace(\"reovirus 3 lang\",'reovirus 1 lang', regex = True)\n",
        "\n",
        "#assumption: all murine norovirus that is not PR772 is mnv 1 (see virus info spreadsheet)\n",
        "experiment['virus_name_strain'] = experiment['virus_name_strain'].str.replace(\"murine norovirus(?!\\s)\",'murine norovirus 1', regex = True)\n",
        "\n",
        "#assumption: manually assign cv B5 in Payment 1985 to Faulkner\n",
        "experiment[\"virus_name_strain\"] = np.where(experiment[\"sample_ID\"]==\"77-2\",'cv b5 faulkner', experiment[\"virus_name_strain\"])\n",
        "\n",
        "#assumption: assume that all mnv except that specifically not designated is mnv 1\n",
        "experiment['virus_name_strain'].str.replace(\"murine norovirus(?!\\s)\",'murine norovirus 1', regex = True)\n",
        "\n",
        "#remove trailing spaces\n",
        "experiment['virus_name_strain'] = experiment['virus_name_strain'].str.replace(\"[ \\t]+$\",'', regex = True)\n",
        "\n",
        "#(sorted(experiment.virus_name_strain.unique()))\n"
      ]
    },
    {
      "cell_type": "code",
      "source": [
        "len(sorted(experiment.virus_name_strain.unique()))"
      ],
      "metadata": {
        "colab": {
          "base_uri": "https://localhost:8080/"
        },
        "id": "hQHzrcGCTpFE",
        "outputId": "a3406707-ff4a-4f3b-fe76-7894a67e071a"
      },
      "execution_count": 92,
      "outputs": [
        {
          "output_type": "execute_result",
          "data": {
            "text/plain": [
              "82"
            ]
          },
          "metadata": {},
          "execution_count": 92
        }
      ]
    },
    {
      "cell_type": "markdown",
      "metadata": {
        "id": "ggHSVjvJceB1"
      },
      "source": [
        "# Process Virus Reference Data"
      ]
    },
    {
      "cell_type": "code",
      "execution_count": 93,
      "metadata": {
        "id": "ofdKuHRbciXo"
      },
      "outputs": [],
      "source": [
        "#import virus data URL\n",
        "wb = gc.open_by_url('https://docs.google.com/spreadsheets/d/1F77o3NBR8Km1cG7MWmJGoyzkT1d2eqjXSYx8BIUb5pY/edit#gid=1024744371')\n",
        "sheet = wb.worksheet('Virus Details Final')\n",
        "data2 = sheet.get_all_values()\n",
        "df = pd.DataFrame(data2)\n",
        "df.columns = df.iloc[0]\n",
        "virus_data = df.iloc[1:]"
      ]
    },
    {
      "cell_type": "markdown",
      "metadata": {
        "id": "Gm6Dco_QdNr0"
      },
      "source": [
        "## Rename and select important columns\n"
      ]
    },
    {
      "cell_type": "code",
      "execution_count": 94,
      "metadata": {
        "id": "OKpZpilcWkMq"
      },
      "outputs": [],
      "source": [
        "#rename important columns\n",
        "virus_data = virus_data.rename(columns={\"Virus Name\": \"virus_name\", \"Baltimore Class\": \"balt_class\", \"Genome shape\":'shape', \"Family\":'family',\"Genus\":'genus', \"Strain\":'strain'})\n",
        "virus_data = virus_data.rename(columns={\"Structure\":'structure',\"Tail\":'tail',\"Isoelectric Point\": 'iep', \"Species\":'species', \"Symmetry\":'symmetry', \"Tail\":'tail'})\n",
        "virus_data['virus_name_strain'] = virus_data['virus_name'].str.replace(\"[ \\t]+$\",'', regex = True) + ' ' + virus_data['strain']\n",
        "virus_data['min_diameter'] = pd.to_numeric(virus_data['min_diameter'])\n",
        "virus_data['max_diameter']= pd.to_numeric(virus_data['max_diameter'])\n",
        "virus_data['diameter'] = (virus_data['min_diameter'] + virus_data['max_diameter'])/2\n",
        "virus_data['genome_length'] = pd.to_numeric(virus_data['genome_length'])\n",
        "\n",
        "#take the average of min and max diameter to get diameter\n",
        "\n",
        "reference = virus_data.loc[:, [\"virus_name_strain\",\"balt_class\",\"family\",\"genus\",\"species\",\"shape\",\"structure\",\"symmetry\",\"tail\",\"diameter\",\"CG_content\",\"genome_length\",\"C_percentage\", \"G_percentage\", \"A_percentage\", \"T_percentage\", \"U_percentage\", \"T_is_0\", \"U_is_0\"]]\n",
        "\n",
        "#reference = virus_data.loc[:,\"virus_name_strain\",\"balt_class\",\"family\",\"genus\",\"species\",\"shape\",\"iep\",\"structure\",\"symmetry\",\"tail\",\"diameter\",\"CG_content\",\"genome_length\",\"C_percentage\", \"G_percentage\", \"A_percentage\", \"T_percentage\", \"U_percentage\", \"T_is_0\", \"U_is_0\"]\n",
        "\n",
        "#make colums lowercase\n",
        "reference['virus_name_strain'] = reference['virus_name_strain'].str.lower()\n",
        "reference['structure'] = reference['structure'].str.lower()\n",
        "\n",
        "#remove trailing space\n",
        "reference['shape']  = reference['shape'].str.replace(\"[ \\t]+$\",'', regex = True)\n",
        "\n",
        "\n",
        "#replace other virus characteristics\n",
        "reference['balt_class'] = reference['balt_class'].str.replace('-senseRNA','-ssRNA')\n",
        "\n"
      ]
    },
    {
      "cell_type": "markdown",
      "metadata": {
        "id": "Lvcd4UnieLEQ"
      },
      "source": [
        "## Abbreviations and virus name cleaning"
      ]
    },
    {
      "cell_type": "code",
      "execution_count": 95,
      "metadata": {
        "id": "7U_KDv86eRgw"
      },
      "outputs": [],
      "source": [
        "#data processing of reference data\n",
        "\n",
        "#replace virus full name with abbreviation in experiment dataset\n",
        "reference['virus_name_strain'] = reference['virus_name_strain'].str.replace('poliovirus','pv')\n",
        "reference['virus_name_strain'] = reference['virus_name_strain'].str.replace('coxsackievirus','cv')\n",
        "reference['virus_name_strain'] = reference['virus_name_strain'].str.replace('echovirus','echo')\n",
        "reference['virus_name_strain'] = reference['virus_name_strain'].str.replace('human adenovirus','hadv')\n",
        "reference['virus_name_strain'] = reference['virus_name_strain'].str.replace('adenovirus','hadv')\n",
        "reference['virus_name_strain'] = reference['virus_name_strain'].str.replace('pepper mild mottle virus','pmmov')\n",
        "reference['virus_name_strain'] = reference['virus_name_strain'].str.replace('enterovirus','entero')\n",
        "reference['virus_name_strain'] = reference['virus_name_strain'].str.replace('hepatitis','hep')\n",
        "reference['virus_name_strain'] = reference['virus_name_strain'].str.replace('phi6','phi 6')\n",
        "reference['virus_name_strain'] = reference['virus_name_strain'].str.replace('none','')\n",
        "\n",
        "#decided to use only one ms2, so i will remove identifyer\n",
        "reference['virus_name_strain'] = reference['virus_name_strain'].str.replace(\"atcc 15597-b1\",'')\n",
        "\n",
        "#general mods\n",
        "reference['virus_name_strain'] = reference['virus_name_strain'].str.replace(\"phi 6 phage\",'phi 6')\n",
        "\n",
        "reference['virus_name_strain'] = reference['virus_name_strain'].str.replace(\"2-85\",'')\n",
        "\n",
        "reference['virus_name_strain'] = reference['virus_name_strain'].str.replace(\"hep e virus\",'hep e').str.replace(\"hep a virus\",'hep a').str.replace(\"sar 55\",'sar55')\n",
        "\n",
        "reference['virus_name_strain'] = reference['virus_name_strain'].str.replace(\" 7a,\",'')\n",
        "\n",
        "#assume all hadv2 is same\n",
        "reference['virus_name_strain'] = reference['virus_name_strain'].str.replace(\"hadv 2 strain 6\",'hadv 2')\n",
        "\n",
        "#remove trailing space\n",
        "reference['virus_name_strain'] = reference['virus_name_strain'].str.replace(\"[ \\t]+$\",'', regex = True)\n"
      ]
    },
    {
      "cell_type": "code",
      "source": [
        "#reference.to_excel(\"virus_information.xlsx\")\n",
        "#files.download(\"virus_information.xlsx\")\n"
      ],
      "metadata": {
        "id": "UBlJ639PXJZs"
      },
      "execution_count": 96,
      "outputs": []
    },
    {
      "cell_type": "code",
      "source": [
        "sorted(np.unique(reference['virus_name_strain']))"
      ],
      "metadata": {
        "colab": {
          "base_uri": "https://localhost:8080/"
        },
        "id": "KO1iXbdLFwUE",
        "outputId": "16c308ec-e745-47cb-b919-492e80ba1f4b"
      },
      "execution_count": 97,
      "outputs": [
        {
          "output_type": "execute_result",
          "data": {
            "text/plain": [
              "['aichi virus 1',\n",
              " 'bacteriophage b40-8',\n",
              " 'cv a24 eh24/70',\n",
              " 'cv a5 swartz',\n",
              " 'cv a9',\n",
              " 'cv a9 griggs',\n",
              " 'cv a9 pb bozek',\n",
              " 'cv b1 49683',\n",
              " 'cv b1 conn-5',\n",
              " 'cv b1 l071715',\n",
              " 'cv b2',\n",
              " 'cv b3 nancy',\n",
              " 'cv b4 jvb',\n",
              " 'cv b4 m063015',\n",
              " 'cv b4 t051217',\n",
              " 'cv b5',\n",
              " 'cv b5 ea 80',\n",
              " 'cv b5 faulkner',\n",
              " 'cv b5 l030315',\n",
              " 'cv b5 l060815',\n",
              " 'cv b5 l061815',\n",
              " 'cv b5 l070215',\n",
              " 'cv b5 l070915',\n",
              " 'cv b5 m063015',\n",
              " 'echo 1 farouk',\n",
              " 'echo 11 gregory',\n",
              " 'echo 12 travis',\n",
              " 'echo 29 jv-10',\n",
              " 'echo 5 noyce',\n",
              " \"echo 6 d'amori\",\n",
              " 'echo 7 wallace',\n",
              " 'echo 9 vispo',\n",
              " 'entero 70 ahc(j670/71)',\n",
              " 'f2 bacteriophage',\n",
              " 'feline calicivirus f9',\n",
              " 'fr bacteriophage',\n",
              " 'ga bacteriophage',\n",
              " 'h1n1 a/pr/8/34',\n",
              " 'h5n1 a/cambodia/408008/2005 clade 1',\n",
              " 'h5n1 a/chicken/hong kong/d-0947/2006',\n",
              " 'h5n1 a/whooperswan/mongolia/244/2005',\n",
              " 'hadv 12 huie',\n",
              " 'hadv 2',\n",
              " 'hadv 3 g.b.',\n",
              " 'hadv 40 dugan',\n",
              " 'hadv 41 tak',\n",
              " 'hadv 5',\n",
              " 'hadv 7 gomen',\n",
              " 'hadv 7a s-1058',\n",
              " 'hep a hm175',\n",
              " 'hep a mbb',\n",
              " 'hep e sar55',\n",
              " 'human rotavirus',\n",
              " 'human rotavirus ito p13',\n",
              " 'human rotavirus wa',\n",
              " 'infectious hematopoietic necrosis virus wenatchee river strain',\n",
              " 'infectious pancreatic necrosis virus powder mill strain',\n",
              " 'kilham rat virus',\n",
              " 'ms2',\n",
              " 'murine norovirus 1',\n",
              " 'murine norovirus s7-pp3',\n",
              " 'parvovirus h-1',\n",
              " 'phi 6',\n",
              " 'phi 8 phage',\n",
              " 'phi x-174 atcc 13706-b1',\n",
              " 'pmmov pepiwatehachiman1',\n",
              " 'pr772',\n",
              " 'prd1',\n",
              " 'pv 1 487',\n",
              " 'pv 1 brunhilde',\n",
              " 'pv 1 mahoney',\n",
              " 'pv 1 mk 500',\n",
              " 'pv 1 sabin',\n",
              " 'pv 2',\n",
              " 'pv 2 lansing',\n",
              " 'pv 2 mef-1',\n",
              " 'pv 2 sabin',\n",
              " 'pv 3 sabin',\n",
              " 'pv 3 saukett',\n",
              " 'qbeta',\n",
              " 'recombinant hadv serotype 5',\n",
              " 'reovirus 1 lang',\n",
              " 'reovirus 2 jones',\n",
              " 'reovirus 3 abney',\n",
              " 'rhesus rotavirus g3p[3]',\n",
              " 'simian rotavirus sa11',\n",
              " 'simian virus 40',\n",
              " 't2',\n",
              " 't5',\n",
              " 'v1']"
            ]
          },
          "metadata": {},
          "execution_count": 97
        }
      ]
    },
    {
      "cell_type": "markdown",
      "metadata": {
        "id": "y4SLxD6KfEls"
      },
      "source": [
        "# Merge Datasets"
      ]
    },
    {
      "cell_type": "code",
      "source": [
        "#merge dataset, using experimental data as key\n",
        "merged_dataset = pd.merge(experiment, reference, how = 'left',  left_on='virus_name_strain', right_on='virus_name_strain')\n",
        "\n",
        "#drop extraneous virus name column\n",
        "merged_dataset = merged_dataset.drop(columns=['virus_name', 'strain'])\n",
        "\n"
      ],
      "metadata": {
        "id": "n7Qd-pjOXoY7"
      },
      "execution_count": 98,
      "outputs": []
    },
    {
      "cell_type": "code",
      "source": [
        "#check merged dataset for missing values\n",
        "print(merged_dataset[merged_dataset['buffer'].isnull()])\n",
        "print(merged_dataset[merged_dataset['balt_class'].isnull()])\n",
        "\n",
        "len(np.unique(merged_dataset['virus_name_strain']))\n",
        "\n"
      ],
      "metadata": {
        "colab": {
          "base_uri": "https://localhost:8080/"
        },
        "id": "mKzwc36qD_M1",
        "outputId": "edace583-2df2-4a7f-f129-11d9a62a53c5"
      },
      "execution_count": 99,
      "outputs": [
        {
          "output_type": "stream",
          "name": "stdout",
          "text": [
            "Empty DataFrame\n",
            "Columns: [virus_name_strain, temp, pH, paper_ID, kobs_mira, purification_level, chlor_conc, sample_ID, year, author_list, buffer_type, corr_author, high_chloride, buffer_description, kobs_kaming, average_kobs, alpha_0, buffer, balt_class, family, genus, species, shape, structure, symmetry, tail, diameter, CG_content, genome_length, C_percentage, G_percentage, A_percentage, T_percentage, U_percentage, T_is_0, U_is_0]\n",
            "Index: []\n",
            "\n",
            "[0 rows x 36 columns]\n",
            "Empty DataFrame\n",
            "Columns: [virus_name_strain, temp, pH, paper_ID, kobs_mira, purification_level, chlor_conc, sample_ID, year, author_list, buffer_type, corr_author, high_chloride, buffer_description, kobs_kaming, average_kobs, alpha_0, buffer, balt_class, family, genus, species, shape, structure, symmetry, tail, diameter, CG_content, genome_length, C_percentage, G_percentage, A_percentage, T_percentage, U_percentage, T_is_0, U_is_0]\n",
            "Index: []\n",
            "\n",
            "[0 rows x 36 columns]\n"
          ]
        },
        {
          "output_type": "execute_result",
          "data": {
            "text/plain": [
              "82"
            ]
          },
          "metadata": {},
          "execution_count": 99
        }
      ]
    },
    {
      "cell_type": "markdown",
      "source": [
        "## Post Merge Processing"
      ],
      "metadata": {
        "id": "yY0OyeZYTIkX"
      }
    },
    {
      "cell_type": "code",
      "source": [
        "#process virus name columns\n",
        "merged_dataset['virus_name_strain'] = merged_dataset['virus_name_strain'].str.replace('infectious pancreatic necrosis virus powder mill strain','ipnv')\n",
        "merged_dataset['virus_name_strain'] = merged_dataset['virus_name_strain'].str.replace('infectious hematopoietic necrosis virus wenatchee river strain','ihnv')\n",
        "merged_dataset['virus_name_strain'] = merged_dataset['virus_name_strain'].str.replace('h5n1 a/chicken/hong kong/d-0947/2006','h5n1 hk')\n",
        "merged_dataset['virus_name_strain'] = merged_dataset['virus_name_strain'].str.replace('h5n1 a/whooperswan/mongolia/244/2005','h5n1 mongolia')\n",
        "merged_dataset['virus_name_strain'] = merged_dataset['virus_name_strain'].str.replace('bacteriophage b40-8','b40-8')\n",
        "merged_dataset['virus_name_strain'] = merged_dataset['virus_name_strain'].str.replace('cv a24 eh24/70','cv a24')\n",
        "merged_dataset['virus_name_strain'] = merged_dataset['virus_name_strain'].str.replace('entero 70 ahc\\\\(j670/71\\\\)','entero 70')\n",
        "merged_dataset['virus_name_strain'] = merged_dataset['virus_name_strain'].str.replace('f2 bacteriophage','f2')\n",
        "merged_dataset['virus_name_strain'] = merged_dataset['virus_name_strain'].str.replace('ga bacteriophage','ga')\n",
        "merged_dataset['virus_name_strain'] = merged_dataset['virus_name_strain'].str.replace('fr bacteriophage','fr')\n",
        "merged_dataset['virus_name_strain'] = merged_dataset['virus_name_strain'].str.replace('feline calicivirus f9','fcv f9')\n",
        "\n",
        "merged_dataset['virus_name_strain'] = merged_dataset['virus_name_strain'].str.replace('h1n1 a/pr/8/34','h1n1 pr')\n",
        "\n",
        "merged_dataset['virus_name_strain'] = merged_dataset['virus_name_strain'].str.replace('hadv 7a s-1058','hadv 7a')\n",
        "\n",
        "merged_dataset['virus_name_strain'] = merged_dataset['virus_name_strain'].str.replace('human rotavirus','hrv')\n",
        "merged_dataset['virus_name_strain'] = merged_dataset['virus_name_strain'].str.replace('murine norovirus','mnv')\n",
        "merged_dataset['virus_name_strain'] = merged_dataset['virus_name_strain'].str.replace('rhesus rotavirus','rrv')\n",
        "merged_dataset['virus_name_strain'] = merged_dataset['virus_name_strain'].str.replace('reovirus','reo')\n",
        "merged_dataset['virus_name_strain'] = merged_dataset['virus_name_strain'].str.replace('phi x-174 atcc 13706-b1','phi x-174')\n"
      ],
      "metadata": {
        "id": "xUTwdXCqTAZd",
        "colab": {
          "base_uri": "https://localhost:8080/"
        },
        "outputId": "e732c699-bc67-4718-d4ee-fe539e051114"
      },
      "execution_count": 100,
      "outputs": [
        {
          "output_type": "stream",
          "name": "stderr",
          "text": [
            "<ipython-input-100-3d6104a9cbd6>:8: FutureWarning: The default value of regex will change from True to False in a future version.\n",
            "  merged_dataset['virus_name_strain'] = merged_dataset['virus_name_strain'].str.replace('entero 70 ahc\\\\(j670/71\\\\)','entero 70')\n"
          ]
        }
      ]
    },
    {
      "cell_type": "markdown",
      "source": [
        "## Modify author list"
      ],
      "metadata": {
        "id": "-QP5WZJcpjt7"
      }
    },
    {
      "cell_type": "code",
      "source": [
        "def get_author_list(str_list):\n",
        "    str_list = str_list.replace('[', \"\")\n",
        "    str_list = str_list.replace(']', \"\")\n",
        "    str_list = str_list.replace(\"'\", \"\")\n",
        "    return str_list\n",
        "\n",
        "\n",
        "merged_dataset['corr_author'] = merged_dataset['corr_author'].apply(get_author_list)\n",
        "#merged_dataset['corr_author'].value_counts()"
      ],
      "metadata": {
        "id": "MrqhUuFXoW4j"
      },
      "execution_count": 101,
      "outputs": []
    },
    {
      "cell_type": "code",
      "source": [
        "# remove extraneous features from dataset\n",
        "merged_dataset = merged_dataset[[f for f in merged_dataset.columns if f not in ['Unnamed: 0', 'kobs_mira','kobs_kaming', 'chlor_conc', 'shape', 'iep']]]\n",
        "merged_dataset.head()"
      ],
      "metadata": {
        "colab": {
          "base_uri": "https://localhost:8080/",
          "height": 481
        },
        "id": "IH3g_CWBoW2Q",
        "outputId": "e9a2232a-3992-4a14-8d76-6393e38e3da0"
      },
      "execution_count": 102,
      "outputs": [
        {
          "output_type": "execute_result",
          "data": {
            "text/plain": [
              "  virus_name_strain  temp   pH  paper_ID purification_level sample_ID  year  \\\n",
              "0    cv b5 faulkner  20.0  7.5         2                  2       2-1  2020   \n",
              "1   echo 11 gregory  20.0  7.5         2                  2       2-2  2020   \n",
              "2    cv b5 faulkner  20.0  7.0         3                  2       3-1  2020   \n",
              "3    cv b5 faulkner  20.0  7.0         3                  2       3-2  2020   \n",
              "4    cv b5 faulkner  10.0  7.0         5                  2       5-1  2019   \n",
              "\n",
              "                                         author_list       buffer_type  \\\n",
              "0    ['young_s', 'torrey_j', 'bachmann_v', 'kohn_t']  phosphate saline   \n",
              "1    ['young_s', 'torrey_j', 'bachmann_v', 'kohn_t']  phosphate saline   \n",
              "2  ['shirasaki_n', 'matsushita_t', 'matsui_y', 'k...  phosphate saline   \n",
              "3  ['shirasaki_n', 'matsushita_t', 'matsui_y', 'k...  phosphate saline   \n",
              "4  ['wati_s', 'robinson_b', 'mieog_j', 'blackbear...        wastewater   \n",
              "\n",
              "   corr_author  ... diameter CG_content  genome_length  C_percentage  \\\n",
              "0       kohn_t  ...     30.0      47.77         7400.0      22.97297   \n",
              "1       kohn_t  ...     30.0     48.145         7438.0      23.78328   \n",
              "2  shirasaki_n  ...     30.0      47.77         7400.0      22.97297   \n",
              "3  shirasaki_n  ...     30.0      47.77         7400.0      22.97297   \n",
              "4     keegan_a  ...     30.0      47.77         7400.0      22.97297   \n",
              "\n",
              "  G_percentage A_percentage T_percentage U_percentage T_is_0 U_is_0  \n",
              "0      24.7973     28.32432            0     23.90541      1      0  \n",
              "1     24.36139     28.09895            0     23.75639      1      0  \n",
              "2      24.7973     28.32432            0     23.90541      1      0  \n",
              "3      24.7973     28.32432            0     23.90541      1      0  \n",
              "4      24.7973     28.32432            0     23.90541      1      0  \n",
              "\n",
              "[5 rows x 32 columns]"
            ],
            "text/html": [
              "\n",
              "  <div id=\"df-e9cf7c80-bf72-46db-8178-15d8189542a1\" class=\"colab-df-container\">\n",
              "    <div>\n",
              "<style scoped>\n",
              "    .dataframe tbody tr th:only-of-type {\n",
              "        vertical-align: middle;\n",
              "    }\n",
              "\n",
              "    .dataframe tbody tr th {\n",
              "        vertical-align: top;\n",
              "    }\n",
              "\n",
              "    .dataframe thead th {\n",
              "        text-align: right;\n",
              "    }\n",
              "</style>\n",
              "<table border=\"1\" class=\"dataframe\">\n",
              "  <thead>\n",
              "    <tr style=\"text-align: right;\">\n",
              "      <th></th>\n",
              "      <th>virus_name_strain</th>\n",
              "      <th>temp</th>\n",
              "      <th>pH</th>\n",
              "      <th>paper_ID</th>\n",
              "      <th>purification_level</th>\n",
              "      <th>sample_ID</th>\n",
              "      <th>year</th>\n",
              "      <th>author_list</th>\n",
              "      <th>buffer_type</th>\n",
              "      <th>corr_author</th>\n",
              "      <th>...</th>\n",
              "      <th>diameter</th>\n",
              "      <th>CG_content</th>\n",
              "      <th>genome_length</th>\n",
              "      <th>C_percentage</th>\n",
              "      <th>G_percentage</th>\n",
              "      <th>A_percentage</th>\n",
              "      <th>T_percentage</th>\n",
              "      <th>U_percentage</th>\n",
              "      <th>T_is_0</th>\n",
              "      <th>U_is_0</th>\n",
              "    </tr>\n",
              "  </thead>\n",
              "  <tbody>\n",
              "    <tr>\n",
              "      <th>0</th>\n",
              "      <td>cv b5 faulkner</td>\n",
              "      <td>20.0</td>\n",
              "      <td>7.5</td>\n",
              "      <td>2</td>\n",
              "      <td>2</td>\n",
              "      <td>2-1</td>\n",
              "      <td>2020</td>\n",
              "      <td>['young_s', 'torrey_j', 'bachmann_v', 'kohn_t']</td>\n",
              "      <td>phosphate saline</td>\n",
              "      <td>kohn_t</td>\n",
              "      <td>...</td>\n",
              "      <td>30.0</td>\n",
              "      <td>47.77</td>\n",
              "      <td>7400.0</td>\n",
              "      <td>22.97297</td>\n",
              "      <td>24.7973</td>\n",
              "      <td>28.32432</td>\n",
              "      <td>0</td>\n",
              "      <td>23.90541</td>\n",
              "      <td>1</td>\n",
              "      <td>0</td>\n",
              "    </tr>\n",
              "    <tr>\n",
              "      <th>1</th>\n",
              "      <td>echo 11 gregory</td>\n",
              "      <td>20.0</td>\n",
              "      <td>7.5</td>\n",
              "      <td>2</td>\n",
              "      <td>2</td>\n",
              "      <td>2-2</td>\n",
              "      <td>2020</td>\n",
              "      <td>['young_s', 'torrey_j', 'bachmann_v', 'kohn_t']</td>\n",
              "      <td>phosphate saline</td>\n",
              "      <td>kohn_t</td>\n",
              "      <td>...</td>\n",
              "      <td>30.0</td>\n",
              "      <td>48.145</td>\n",
              "      <td>7438.0</td>\n",
              "      <td>23.78328</td>\n",
              "      <td>24.36139</td>\n",
              "      <td>28.09895</td>\n",
              "      <td>0</td>\n",
              "      <td>23.75639</td>\n",
              "      <td>1</td>\n",
              "      <td>0</td>\n",
              "    </tr>\n",
              "    <tr>\n",
              "      <th>2</th>\n",
              "      <td>cv b5 faulkner</td>\n",
              "      <td>20.0</td>\n",
              "      <td>7.0</td>\n",
              "      <td>3</td>\n",
              "      <td>2</td>\n",
              "      <td>3-1</td>\n",
              "      <td>2020</td>\n",
              "      <td>['shirasaki_n', 'matsushita_t', 'matsui_y', 'k...</td>\n",
              "      <td>phosphate saline</td>\n",
              "      <td>shirasaki_n</td>\n",
              "      <td>...</td>\n",
              "      <td>30.0</td>\n",
              "      <td>47.77</td>\n",
              "      <td>7400.0</td>\n",
              "      <td>22.97297</td>\n",
              "      <td>24.7973</td>\n",
              "      <td>28.32432</td>\n",
              "      <td>0</td>\n",
              "      <td>23.90541</td>\n",
              "      <td>1</td>\n",
              "      <td>0</td>\n",
              "    </tr>\n",
              "    <tr>\n",
              "      <th>3</th>\n",
              "      <td>cv b5 faulkner</td>\n",
              "      <td>20.0</td>\n",
              "      <td>7.0</td>\n",
              "      <td>3</td>\n",
              "      <td>2</td>\n",
              "      <td>3-2</td>\n",
              "      <td>2020</td>\n",
              "      <td>['shirasaki_n', 'matsushita_t', 'matsui_y', 'k...</td>\n",
              "      <td>phosphate saline</td>\n",
              "      <td>shirasaki_n</td>\n",
              "      <td>...</td>\n",
              "      <td>30.0</td>\n",
              "      <td>47.77</td>\n",
              "      <td>7400.0</td>\n",
              "      <td>22.97297</td>\n",
              "      <td>24.7973</td>\n",
              "      <td>28.32432</td>\n",
              "      <td>0</td>\n",
              "      <td>23.90541</td>\n",
              "      <td>1</td>\n",
              "      <td>0</td>\n",
              "    </tr>\n",
              "    <tr>\n",
              "      <th>4</th>\n",
              "      <td>cv b5 faulkner</td>\n",
              "      <td>10.0</td>\n",
              "      <td>7.0</td>\n",
              "      <td>5</td>\n",
              "      <td>2</td>\n",
              "      <td>5-1</td>\n",
              "      <td>2019</td>\n",
              "      <td>['wati_s', 'robinson_b', 'mieog_j', 'blackbear...</td>\n",
              "      <td>wastewater</td>\n",
              "      <td>keegan_a</td>\n",
              "      <td>...</td>\n",
              "      <td>30.0</td>\n",
              "      <td>47.77</td>\n",
              "      <td>7400.0</td>\n",
              "      <td>22.97297</td>\n",
              "      <td>24.7973</td>\n",
              "      <td>28.32432</td>\n",
              "      <td>0</td>\n",
              "      <td>23.90541</td>\n",
              "      <td>1</td>\n",
              "      <td>0</td>\n",
              "    </tr>\n",
              "  </tbody>\n",
              "</table>\n",
              "<p>5 rows × 32 columns</p>\n",
              "</div>\n",
              "    <div class=\"colab-df-buttons\">\n",
              "\n",
              "  <div class=\"colab-df-container\">\n",
              "    <button class=\"colab-df-convert\" onclick=\"convertToInteractive('df-e9cf7c80-bf72-46db-8178-15d8189542a1')\"\n",
              "            title=\"Convert this dataframe to an interactive table.\"\n",
              "            style=\"display:none;\">\n",
              "\n",
              "  <svg xmlns=\"http://www.w3.org/2000/svg\" height=\"24px\" viewBox=\"0 -960 960 960\">\n",
              "    <path d=\"M120-120v-720h720v720H120Zm60-500h600v-160H180v160Zm220 220h160v-160H400v160Zm0 220h160v-160H400v160ZM180-400h160v-160H180v160Zm440 0h160v-160H620v160ZM180-180h160v-160H180v160Zm440 0h160v-160H620v160Z\"/>\n",
              "  </svg>\n",
              "    </button>\n",
              "\n",
              "  <style>\n",
              "    .colab-df-container {\n",
              "      display:flex;\n",
              "      gap: 12px;\n",
              "    }\n",
              "\n",
              "    .colab-df-convert {\n",
              "      background-color: #E8F0FE;\n",
              "      border: none;\n",
              "      border-radius: 50%;\n",
              "      cursor: pointer;\n",
              "      display: none;\n",
              "      fill: #1967D2;\n",
              "      height: 32px;\n",
              "      padding: 0 0 0 0;\n",
              "      width: 32px;\n",
              "    }\n",
              "\n",
              "    .colab-df-convert:hover {\n",
              "      background-color: #E2EBFA;\n",
              "      box-shadow: 0px 1px 2px rgba(60, 64, 67, 0.3), 0px 1px 3px 1px rgba(60, 64, 67, 0.15);\n",
              "      fill: #174EA6;\n",
              "    }\n",
              "\n",
              "    .colab-df-buttons div {\n",
              "      margin-bottom: 4px;\n",
              "    }\n",
              "\n",
              "    [theme=dark] .colab-df-convert {\n",
              "      background-color: #3B4455;\n",
              "      fill: #D2E3FC;\n",
              "    }\n",
              "\n",
              "    [theme=dark] .colab-df-convert:hover {\n",
              "      background-color: #434B5C;\n",
              "      box-shadow: 0px 1px 3px 1px rgba(0, 0, 0, 0.15);\n",
              "      filter: drop-shadow(0px 1px 2px rgba(0, 0, 0, 0.3));\n",
              "      fill: #FFFFFF;\n",
              "    }\n",
              "  </style>\n",
              "\n",
              "    <script>\n",
              "      const buttonEl =\n",
              "        document.querySelector('#df-e9cf7c80-bf72-46db-8178-15d8189542a1 button.colab-df-convert');\n",
              "      buttonEl.style.display =\n",
              "        google.colab.kernel.accessAllowed ? 'block' : 'none';\n",
              "\n",
              "      async function convertToInteractive(key) {\n",
              "        const element = document.querySelector('#df-e9cf7c80-bf72-46db-8178-15d8189542a1');\n",
              "        const dataTable =\n",
              "          await google.colab.kernel.invokeFunction('convertToInteractive',\n",
              "                                                    [key], {});\n",
              "        if (!dataTable) return;\n",
              "\n",
              "        const docLinkHtml = 'Like what you see? Visit the ' +\n",
              "          '<a target=\"_blank\" href=https://colab.research.google.com/notebooks/data_table.ipynb>data table notebook</a>'\n",
              "          + ' to learn more about interactive tables.';\n",
              "        element.innerHTML = '';\n",
              "        dataTable['output_type'] = 'display_data';\n",
              "        await google.colab.output.renderOutput(dataTable, element);\n",
              "        const docLink = document.createElement('div');\n",
              "        docLink.innerHTML = docLinkHtml;\n",
              "        element.appendChild(docLink);\n",
              "      }\n",
              "    </script>\n",
              "  </div>\n",
              "\n",
              "\n",
              "<div id=\"df-5b7cdef2-2bc7-4c76-962a-dbc1e8ce47b3\">\n",
              "  <button class=\"colab-df-quickchart\" onclick=\"quickchart('df-5b7cdef2-2bc7-4c76-962a-dbc1e8ce47b3')\"\n",
              "            title=\"Suggest charts.\"\n",
              "            style=\"display:none;\">\n",
              "\n",
              "<svg xmlns=\"http://www.w3.org/2000/svg\" height=\"24px\"viewBox=\"0 0 24 24\"\n",
              "     width=\"24px\">\n",
              "    <g>\n",
              "        <path d=\"M19 3H5c-1.1 0-2 .9-2 2v14c0 1.1.9 2 2 2h14c1.1 0 2-.9 2-2V5c0-1.1-.9-2-2-2zM9 17H7v-7h2v7zm4 0h-2V7h2v10zm4 0h-2v-4h2v4z\"/>\n",
              "    </g>\n",
              "</svg>\n",
              "  </button>\n",
              "\n",
              "<style>\n",
              "  .colab-df-quickchart {\n",
              "    background-color: #E8F0FE;\n",
              "    border: none;\n",
              "    border-radius: 50%;\n",
              "    cursor: pointer;\n",
              "    display: none;\n",
              "    fill: #1967D2;\n",
              "    height: 32px;\n",
              "    padding: 0 0 0 0;\n",
              "    width: 32px;\n",
              "  }\n",
              "\n",
              "  .colab-df-quickchart:hover {\n",
              "    background-color: #E2EBFA;\n",
              "    box-shadow: 0px 1px 2px rgba(60, 64, 67, 0.3), 0px 1px 3px 1px rgba(60, 64, 67, 0.15);\n",
              "    fill: #174EA6;\n",
              "  }\n",
              "\n",
              "  [theme=dark] .colab-df-quickchart {\n",
              "    background-color: #3B4455;\n",
              "    fill: #D2E3FC;\n",
              "  }\n",
              "\n",
              "  [theme=dark] .colab-df-quickchart:hover {\n",
              "    background-color: #434B5C;\n",
              "    box-shadow: 0px 1px 3px 1px rgba(0, 0, 0, 0.15);\n",
              "    filter: drop-shadow(0px 1px 2px rgba(0, 0, 0, 0.3));\n",
              "    fill: #FFFFFF;\n",
              "  }\n",
              "</style>\n",
              "\n",
              "  <script>\n",
              "    async function quickchart(key) {\n",
              "      const charts = await google.colab.kernel.invokeFunction(\n",
              "          'suggestCharts', [key], {});\n",
              "    }\n",
              "    (() => {\n",
              "      let quickchartButtonEl =\n",
              "        document.querySelector('#df-5b7cdef2-2bc7-4c76-962a-dbc1e8ce47b3 button');\n",
              "      quickchartButtonEl.style.display =\n",
              "        google.colab.kernel.accessAllowed ? 'block' : 'none';\n",
              "    })();\n",
              "  </script>\n",
              "</div>\n",
              "    </div>\n",
              "  </div>\n"
            ]
          },
          "metadata": {},
          "execution_count": 102
        }
      ]
    },
    {
      "cell_type": "code",
      "source": [
        "# Take log of the kobs\n",
        "merged_dataset['log_average_kobs'] = np.log10(merged_dataset['average_kobs'])\n"
      ],
      "metadata": {
        "id": "g6R_tjmkoWz-"
      },
      "execution_count": 103,
      "outputs": []
    },
    {
      "cell_type": "markdown",
      "source": [
        "## Scale Year"
      ],
      "metadata": {
        "id": "yUOA416Spfup"
      }
    },
    {
      "cell_type": "code",
      "source": [
        "merged_dataset['year'] = merged_dataset['year'].str.replace('b', '')\n",
        "np.sort(merged_dataset['year'].unique())"
      ],
      "metadata": {
        "colab": {
          "base_uri": "https://localhost:8080/"
        },
        "id": "70VWeWPHoWxf",
        "outputId": "e68d0412-5d0f-4f52-acea-3e1539d5c441"
      },
      "execution_count": 104,
      "outputs": [
        {
          "output_type": "execute_result",
          "data": {
            "text/plain": [
              "array(['1958', '1971', '1973', '1977', '1978', '1979', '1980', '1981',\n",
              "       '1982', '1983', '1984', '1985', '1986', '1988', '1989', '1990',\n",
              "       '1991', '1994', '1995', '1996', '1998', '2003', '2004', '2007',\n",
              "       '2008', '2009', '2010', '2011', '2012', '2013', '2014', '2015',\n",
              "       '2016', '2017', '2018', '2019', '2020'], dtype=object)"
            ]
          },
          "metadata": {},
          "execution_count": 104
        }
      ]
    },
    {
      "cell_type": "code",
      "source": [
        "middle_year = float((1958 + 2020)/2)\n",
        "\n",
        "merged_dataset['year_float'] = merged_dataset['year'].astype(\"float\")\n",
        "merged_dataset['year_int'] = merged_dataset['year'].astype(\"int\")\n",
        "\n",
        "merged_dataset['float_year_scaled'] = (merged_dataset['year_float'] - middle_year)/10\n",
        "merged_dataset['int_year_scaled'] = (merged_dataset['year_int'] - middle_year)/10"
      ],
      "metadata": {
        "id": "yS84rM7moWur"
      },
      "execution_count": 105,
      "outputs": []
    },
    {
      "cell_type": "code",
      "source": [
        "#(sorted(experiment.virus_name_strain.unique()))"
      ],
      "metadata": {
        "id": "qgz0HFoA0ORg"
      },
      "execution_count": 106,
      "outputs": []
    },
    {
      "cell_type": "markdown",
      "source": [
        "#Export Dataset"
      ],
      "metadata": {
        "id": "udxEROELh5yP"
      }
    },
    {
      "cell_type": "code",
      "source": [
        "len(sorted(merged_dataset.virus_name_strain.unique()))"
      ],
      "metadata": {
        "colab": {
          "base_uri": "https://localhost:8080/"
        },
        "id": "gDXTweXA0YvF",
        "outputId": "23d95030-6ec0-4aca-c174-ebf91c033531"
      },
      "execution_count": 107,
      "outputs": [
        {
          "output_type": "execute_result",
          "data": {
            "text/plain": [
              "82"
            ]
          },
          "metadata": {},
          "execution_count": 107
        }
      ]
    },
    {
      "cell_type": "code",
      "source": [
        "import os\n",
        "os.getcwd()"
      ],
      "metadata": {
        "colab": {
          "base_uri": "https://localhost:8080/",
          "height": 35
        },
        "id": "2Ruv9bCXDf1R",
        "outputId": "661dc711-c5bc-488f-81cc-850357726d62"
      },
      "execution_count": 108,
      "outputs": [
        {
          "output_type": "execute_result",
          "data": {
            "text/plain": [
              "'/content'"
            ],
            "application/vnd.google.colaboratory.intrinsic+json": {
              "type": "string"
            }
          },
          "metadata": {},
          "execution_count": 108
        }
      ]
    },
    {
      "cell_type": "code",
      "source": [
        "from google.colab import files\n",
        "\n",
        "merged_dataset_test = merged_dataset.copy().fillna('').reset_index(drop = True)\n",
        "\n",
        "values = [merged_dataset_test.columns.values.tolist()] + merged_dataset_test.values.tolist()\n",
        "\n",
        "sheet = gc.create('merged_dataset_postprocessing.xlsx').sheet1\n",
        "sheet.update(values)\n",
        "\n",
        "\n",
        "#merged_dataset_test.to_csv(\"merged_dataset_test.csv\")\n",
        "#files.download(\"merged_dataset_test.csv\")"
      ],
      "metadata": {
        "id": "igMKh0pHOTwO",
        "colab": {
          "base_uri": "https://localhost:8080/"
        },
        "outputId": "a474ed3a-51f1-4ae3-80b9-f5ef40c8df07"
      },
      "execution_count": 109,
      "outputs": [
        {
          "output_type": "execute_result",
          "data": {
            "text/plain": [
              "{'spreadsheetId': '1eAUCumt3TgfcfcwnoWypl6_JzlucQQR1g2Jm8XehVAg',\n",
              " 'updatedRange': 'Sheet1!A1:AK565',\n",
              " 'updatedRows': 565,\n",
              " 'updatedColumns': 37,\n",
              " 'updatedCells': 20905}"
            ]
          },
          "metadata": {},
          "execution_count": 109
        }
      ]
    },
    {
      "cell_type": "markdown",
      "source": [],
      "metadata": {
        "id": "24psGegohC3A"
      }
    }
  ],
  "metadata": {
    "colab": {
      "provenance": [],
      "include_colab_link": true
    },
    "kernelspec": {
      "display_name": "Python 3",
      "name": "python3"
    },
    "language_info": {
      "name": "python"
    }
  },
  "nbformat": 4,
  "nbformat_minor": 0
}